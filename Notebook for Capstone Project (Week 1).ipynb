{
    "cells": [
        {
            "cell_type": "markdown",
            "metadata": {
                "collapsed": true
            },
            "source": "# Assignment on Capstone Project - The Battle of Neighborhoods (Week 1)"
        },
        {
            "cell_type": "markdown",
            "metadata": {},
            "source": "## Table of contents"
        },
        {
            "cell_type": "markdown",
            "metadata": {},
            "source": "* [1. Introduction: Business Problem](#introduction)\n* [2. Data](#data)"
        },
        {
            "cell_type": "markdown",
            "metadata": {},
            "source": "## 1. Introduction: Business Problem <a name=\"introduction\"></a>"
        },
        {
            "cell_type": "markdown",
            "metadata": {},
            "source": "**1.1 Scenario and Background**\n\nJust after a visit to Dhaka, the capital of Bangladesh, a Chinese couple has decided to enter into a partnership with a renowned Chinese Restaurant owner in Dhaka City to introduce authentic Chinese menu side by side with its regular dishes. They observed that Chinese food is very popular to the city dwellers and in any occasion particularly for family gathering, people used to hang out in Chinese restaurant to have the local made dishes. But the Chinese couple found the dishes that are being prepared in such restaurants are not the authentic dishes and tastes are miles apart from the original Chinese flavor. \n\nTherefore they seek for a renowned Chinese restaurant in a suitable location/neighborhood of Dhaka city to make their pilot project a formal start.\n\nThrough this assignment, I will be trying to provide a solution to Chinese couple to find the location/neighborhood and the name of a restaurant with relevant data and the explanation.       \n"
        },
        {
            "cell_type": "markdown",
            "metadata": {},
            "source": "**1.2 Problem to be resolved**\n\nThe challenge to resolve is being able to find a Chinese restaurant in Dhaka that is located in a densely populated neighborhood and well reputed.\n\nI will be finding the location and the restaurant subject to the following conditions:\n-\tThe location/neighborhood populated with maximum number of people compared to other locations in the Dhaka city.\n-\tRestaurants located nearby any residential complex. Residential complex has been selected considering the usual or occasional inflow of customers  to those restaurants.  \n-\tA restaurant with overall good customer ratings that to be considered for partnership agreement. \n"
        },
        {
            "cell_type": "markdown",
            "metadata": {},
            "source": "**1.3 Interested Audience**\n\nI believe this project will be a fairly good exercise for interested investors to capture a preliminary scenario that will play a key role for planning an investment in international market.   "
        },
        {
            "cell_type": "markdown",
            "metadata": {},
            "source": "## 2. Data <a name=\"data\"></a>"
        },
        {
            "cell_type": "markdown",
            "metadata": {},
            "source": "**2.1 A description of the data and its sources** \n\nBased on the above mentioned problem, tasks that will be followed are; 1. Capture data that indicates the highest populated neighborhood in city, 2. Find a residential complex in that neighborhood and 3. A good rated Chinese restaurant located nearby that residential complex.\n\nTo find the highest populated neighborhood in city, I have search in Google and found a link (https://www.citypopulation.de/php/bangladesh-admin.php?adm1id=26) that provides the info about Dhaka city population and in addition, also found a link in Wikipedia (https://en.wikipedia.org/wiki/Mohammadpur_Thana) that cited a residential complex (largest apartment blocks) located in that highest populated neighborhood in city. It is to be mentioned here that I could not capture the data in csv file directly from the mentioned websites as the given format of the web data is not downloadable. Therefore I have to create applicable data in excel file on my own. \n\nName and rating of restaurants that are located nearby the residential complex will be obtained by using **Foursquare API**.\n"
        },
        {
            "cell_type": "markdown",
            "metadata": {},
            "source": "**2.2 How data will be used to solve the problem**\n\nGoogle data will provide the detail information about the population of Dhaka city, from where I will create excel file with applicable data. From excel file, a dataframe will be created in IBM Watson notebook and showed the population in table format. As like saying \u2018A picture is worth a thousand words\u2019, a horizontal bar graph will be created to indentify the name of highest populated neighborhood of Dhaka city.  From Wiki page, the name of a residential complex will be collected which will later use in **Foursquare API** to pinpoint the names of closest Chinese restaurants and finally select one restaurant based on customer ratings.    \n"
        }
    ],
    "metadata": {
        "kernelspec": {
            "display_name": "Python 3.6",
            "language": "python",
            "name": "python3"
        },
        "language_info": {
            "codemirror_mode": {
                "name": "ipython",
                "version": 3
            },
            "file_extension": ".py",
            "mimetype": "text/x-python",
            "name": "python",
            "nbconvert_exporter": "python",
            "pygments_lexer": "ipython3",
            "version": "3.6.8"
        }
    },
    "nbformat": 4,
    "nbformat_minor": 1
}